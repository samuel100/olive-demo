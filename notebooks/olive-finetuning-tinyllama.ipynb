{
 "cells": [
  {
   "cell_type": "markdown",
   "metadata": {},
   "source": [
    "✨ This notebook can run on an Nvidia Tesla T4 Instance, for example using the **free** T4 Google Colab instance. To run, select **Runtime** followed by **Run all**.\n",
    "\n",
    "This notebook demonstrates how to:\n",
    "\n",
    "<div>\n",
    "<ul style=\"list-style-type: '✅ ';\">\n",
    "<li>Fine-tune a TinyLlama model using QLoRA technique</li>\n",
    "<li>Optimize the model for inferencing with the ONNX Runtime</li>\n",
    "<li>Save the model and adapters seperately for multi-LoRA model serving with ONNX Runtime</li>\n",
    "<li>Run the model using the ONNX Runtime</li>\n",
    "</ul>\n",
    "</div>"
   ]
  },
  {
   "cell_type": "code",
   "execution_count": null,
   "metadata": {
    "vscode": {
     "languageId": "shellscript"
    }
   },
   "outputs": [],
   "source": [
    "%%capture\n",
    "\n",
    "!pip install git+https://github.com/microsoft/Olive\n",
    "!pip install transformers accelerate bitsandbytes datasets trl protobuf einops peft numpy optimum onnxruntime-gpu flash-attn\n",
    "!pip install onnxruntime-genai-cuda --index-url=https://aiinfra.pkgs.visualstudio.com/PublicPackages/_packaging/onnxruntime-cuda-12/pypi/simple/\n",
    "!sudo apt-get -y install cudnn9-cuda-12"
   ]
  },
  {
   "cell_type": "markdown",
   "metadata": {},
   "source": [
    "In this example, you'll be fine-tuning a phrase classify i.e. given an english phrase, the model will classify into one of joy/surprise/fear/sadness categories. The dataset, which is available on Hugging Face, is show below"
   ]
  },
  {
   "cell_type": "code",
   "execution_count": 8,
   "metadata": {},
   "outputs": [
    {
     "data": {
      "text/html": [
       "<div>\n",
       "<style scoped>\n",
       "    .dataframe tbody tr th:only-of-type {\n",
       "        vertical-align: middle;\n",
       "    }\n",
       "\n",
       "    .dataframe tbody tr th {\n",
       "        vertical-align: top;\n",
       "    }\n",
       "\n",
       "    .dataframe thead th {\n",
       "        text-align: right;\n",
       "    }\n",
       "</style>\n",
       "<table border=\"1\" class=\"dataframe\">\n",
       "  <thead>\n",
       "    <tr style=\"text-align: right;\">\n",
       "      <th></th>\n",
       "      <th>phrase</th>\n",
       "      <th>tone</th>\n",
       "    </tr>\n",
       "  </thead>\n",
       "  <tbody>\n",
       "    <tr>\n",
       "      <th>0</th>\n",
       "      <td>I'm thrilled to start my new job!</td>\n",
       "      <td>joy</td>\n",
       "    </tr>\n",
       "    <tr>\n",
       "      <th>1</th>\n",
       "      <td>I can't believe I lost my keys again.</td>\n",
       "      <td>surprise</td>\n",
       "    </tr>\n",
       "    <tr>\n",
       "      <th>2</th>\n",
       "      <td>This haunted house is terrifying!</td>\n",
       "      <td>fear</td>\n",
       "    </tr>\n",
       "    <tr>\n",
       "      <th>3</th>\n",
       "      <td>Winning the lottery is a dream come true.</td>\n",
       "      <td>joy</td>\n",
       "    </tr>\n",
       "    <tr>\n",
       "      <th>4</th>\n",
       "      <td>Missing the concert is really disappointing.</td>\n",
       "      <td>sadness</td>\n",
       "    </tr>\n",
       "  </tbody>\n",
       "</table>\n",
       "</div>"
      ],
      "text/plain": [
       "                                         phrase      tone\n",
       "0             I'm thrilled to start my new job!       joy\n",
       "1         I can't believe I lost my keys again.  surprise\n",
       "2             This haunted house is terrifying!      fear\n",
       "3     Winning the lottery is a dream come true.       joy\n",
       "4  Missing the concert is really disappointing.   sadness"
      ]
     },
     "execution_count": 8,
     "metadata": {},
     "output_type": "execute_result"
    }
   ],
   "source": [
    "from datasets import load_dataset\n",
    "\n",
    "dataset = load_dataset(\"xxyyzzz/phrase_classification\")\n",
    "dataset['train'].to_pandas().head()"
   ]
  },
  {
   "cell_type": "markdown",
   "metadata": {},
   "source": [
    "Next, the `olive finetune` command executes. This single command will not only fine-tune the model but also optimize the model to run with quality and performance on the [ONNX runtime](https://onnxruntime.ai/). \n",
    "\n",
    "🧠 Olive supports the following models out-of-the-box: Phi, Llama, Mistral, Gemma, Qwen. You will need more compute power to Fine-tune these models."
   ]
  },
  {
   "cell_type": "code",
   "execution_count": null,
   "metadata": {
    "vscode": {
     "languageId": "shellscript"
    }
   },
   "outputs": [],
   "source": [
    "!olive finetune \\\n",
    "    --method qlora \\\n",
    "    --model_name_or_path TinyLlama/TinyLlama-1.1B-Chat-v1.0 \\\n",
    "#   --model_name_or_path microsoft/Phi-3.5-mini-instruct \\\n",
    "#   --model_name_or_path meta-llama/Meta-Llama-3.1-8B-Instruct \\\n",
    "#   --model_name_or_path Qwen/Qwen2-VL-2B-Instruct \\\n",
    "    --trust_remote_code \\\n",
    "    --use_ort_genai \\\n",
    "    --data_name xxyyzzz/phrase_classification \\\n",
    "    --text_template \"<|user|>\\n{phrase}</s>\\n<|assistant|>\\n{tone}</s>\" \\\n",
    "    --max_steps 50"
   ]
  },
  {
   "cell_type": "markdown",
   "metadata": {},
   "source": [
    "🧪 Test the model in the ONNX Runtime. You will be prompted to enter an input. Here are some phrases to try:\n",
    "\n",
    "- \"Cricket is a great game\"\n",
    "- \"I was taken aback by the size of the whale\"\n",
    "- \"there was concern about the dark lighting on the street\""
   ]
  },
  {
   "cell_type": "code",
   "execution_count": null,
   "metadata": {},
   "outputs": [],
   "source": [
    "import onnxruntime_genai as og\n",
    "import numpy as np\n",
    "import os\n",
    "\n",
    "model_folder = \"optimized-model\"\n",
    "\n",
    "print(\"loading model and weights...\", end=\"\")\n",
    "model = og.Model(model_folder)\n",
    "tokenizer = og.Tokenizer(model)\n",
    "tokenizer_stream = tokenizer.create_stream()\n",
    "\n",
    "weights_file = os.path.join(model_folder, \"adapter_weights.npz\")\n",
    "adapter_weights = np.load(weights_file)\n",
    "print(\"done!\")\n",
    "\n",
    "# Set the max length to something sensible by default,\n",
    "# since otherwise it will be set to the entire context length\n",
    "search_options = {}\n",
    "search_options['max_length'] = 200\n",
    "search_options['past_present_share_buffer'] = False\n",
    "\n",
    "chat_template = \"<|user|>\\n{input}</s>\\n<|assistant|>\"\n",
    "\n",
    "text = input(\"Input: \")\n",
    "\n",
    "while text != \"exit\":\n",
    "  if not text:\n",
    "    print(\"Error, input cannot be empty\")\n",
    "    exit\n",
    "\n",
    "  prompt = f'{chat_template.format(input=text)}'\n",
    "\n",
    "  input_tokens = tokenizer.encode(prompt)\n",
    "\n",
    "  params = og.GeneratorParams(model)\n",
    "  for key in adapter_weights.keys():\n",
    "      params.set_model_input(key, adapter_weights[key])\n",
    "  params.set_search_options(**search_options)\n",
    "  params.input_ids = input_tokens\n",
    "  generator = og.Generator(model, params)\n",
    "\n",
    "\n",
    "  print(\"Output: \", end='', flush=True)\n",
    "\n",
    "  try:\n",
    "    while not generator.is_done():\n",
    "      generator.compute_logits()\n",
    "      generator.generate_next_token()\n",
    "\n",
    "      new_token = generator.get_next_tokens()[0]\n",
    "      print(tokenizer_stream.decode(new_token), end='', flush=True)\n",
    "  except KeyboardInterrupt:\n",
    "      print(\"  --control+c pressed, aborting generation--\")\n",
    "\n",
    "  print()\n",
    "  text = input(\"Input: \")\n",
    "\n",
    "del generator\n",
    "del model\n",
    "del tokenizer\n",
    "del tokenizer_stream"
   ]
  }
 ],
 "metadata": {
  "kernelspec": {
   "display_name": "olive-ai",
   "language": "python",
   "name": "python3"
  },
  "language_info": {
   "codemirror_mode": {
    "name": "ipython",
    "version": 3
   },
   "file_extension": ".py",
   "mimetype": "text/x-python",
   "name": "python",
   "nbconvert_exporter": "python",
   "pygments_lexer": "ipython3",
   "version": "3.11.9"
  }
 },
 "nbformat": 4,
 "nbformat_minor": 2
}
